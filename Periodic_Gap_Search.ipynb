{
 "cells": [
  {
   "cell_type": "markdown",
   "id": "cd7a4734-6cad-4df0-aa73-dc72da9de8b6",
   "metadata": {
    "jp-MarkdownHeadingCollapsed": true
   },
   "source": [
    "# load function"
   ]
  },
  {
   "cell_type": "code",
   "execution_count": 6,
   "id": "8339ed07-a2b9-4e1e-81bb-76eee73fc4a7",
   "metadata": {},
   "outputs": [],
   "source": [
    "### v6【load function for find gap candidate】 \n",
    "\n",
    "import numpy as np\n",
    "import matplotlib.pyplot as plt\n",
    "from sympy import *\n",
    "import math\n",
    "\n",
    "def clean_second_data(ToA):  # clean ToA data to get waiting time\n",
    "    ToA = np.sort(ToA)\n",
    "    n = np.delete(np.array(range(len(ToA))), -1)  # delet last one\n",
    "    wt=[]\n",
    "    for i in n:\n",
    "        wt = np.append(wt, ((ToA[i+1] - ToA[i])))  # waiting time, in second\n",
    "   \n",
    "    wt = wt[(wt_small< wt) & (wt < (wt_big * 10))]\n",
    "    wt = wt[np.argsort(wt)]\n",
    "    return wt  # all wt, wt in searching window,  wt for checking\n",
    "\n",
    "\n",
    "\n",
    "def clean_mjd_data(ToA):  # clean ToA data to get waiting time\n",
    "    ToA = np.sort(ToA)\n",
    "    n = np.delete(np.array(range(len(ToA))), -1)  # delet last one\n",
    "    \n",
    "    wt=[]\n",
    "    for i in n:\n",
    "        wt = np.append(wt, ((ToA[i+1] - ToA[i]) * 24*3600))  # waiting time, in second\n",
    "    wt = np.delete(wt, wt>3600)  # delet wt too big which from two observation\n",
    "    wt = wt[(wt_small< wt) & (wt < (wt_big * 10))]\n",
    "    wt = wt[np.argsort(wt)]\n",
    "    return wt\n",
    "\n",
    "\n",
    "\n",
    "def first_gap_search(wt):  # find gap_candidates allow r_gap\n",
    "    cand_gap=[]\n",
    "    for start_wt in range(len(wt) -1 ):\n",
    "        max_gap = wt[start_wt+1] - wt[start_wt]   # 把每个空档都当成，潜在最大的周期空档候选体\n",
    "        min_on = wt[start_wt]\n",
    "        if (min_on / (max_gap + 2 * wt[start_wt])) < duty_cycle:\n",
    "            cand_gap = np.append(cand_gap, int(start_wt))\n",
    "    cand_gap = list(map(int, cand_gap)) ## Convert to int\n",
    "    return cand_gap\n",
    "\n",
    "\n",
    "\n",
    "def parameter_space(start_wt):  # get parameter_space in a candidate gap_1\n",
    "    gap_off = wt[start_wt+1];  gap_on = wt[start_wt]\n",
    "    max_on = symbols('x')\n",
    "    max_on = solve((max_on)/(max_on + gap_off) - duty_cycle, max_on) \n",
    "    max_on = max_on[0]\n",
    "    list_on = np.linspace(gap_on, float(max_on), num=50)  #步长设置\n",
    "    \n",
    "    on_off_list = np.array([0, 0])\n",
    "    for on in list_on:\n",
    "        min_off = symbols('x')\n",
    "        min_off = solve((on) / (on + min_off) - duty_cycle, min_off)\n",
    "        min_off = min_off[0]\n",
    "        list_off = np.linspace(float(min_off), gap_off, num=20)  #\n",
    "        \n",
    "        on_off_list_temp = np.ones_like(list_off) * on\n",
    "        on_off_list_temp = np.array(list(zip(on_off_list_temp, list_off)))\n",
    "        on_off_list = np.vstack([on_off_list, on_off_list_temp])\n",
    "        \n",
    "    on_off_list = np.delete(on_off_list, 0,0)\n",
    "    return on_off_list\n",
    "\n",
    "\n",
    "\n",
    "def search_gap(gap_on, gap_off, gap_n):  # search gap_n \n",
    "    period = gap_off + gap_on\n",
    "    error_extent = (gap_off - gap_on) * (error_rate * 0.5)  # 根据gap宽度和容错比率，计算出可以误差的大小\n",
    "\n",
    "    start_gap_n = gap_on + (gap_n-1) * period \n",
    "    end_gap_n = gap_off + (gap_n-1) * period\n",
    "    check_list = [num for num in wt if (start_gap_n + error_extent)  <= num <= (end_gap_n - error_extent)]\n",
    "\n",
    "    if not any(check_list):\n",
    "        return gap_on, gap_off\n",
    "    else:\n",
    "        return False, False\n",
    "\n",
    "\n",
    "\n",
    "def main_search(cand_gap):  # main for gap search\n",
    "    if search_n_gap < 2:\n",
    "        print(\"search_n_gap too small\")\n",
    "        exit()\n",
    "    \n",
    "    search_range = list(range(search_n_gap+1)); del search_range[0:2]  # 要搜寻的第n个gap列表，如2， 3， 4\n",
    "    \n",
    "    cand_gap_all = []\n",
    "    for start_wt in cand_gap:\n",
    "        ## creat empty dictionary\n",
    "        cand_gap_list=[]\n",
    "        for i in search_range:\n",
    "            cand_gap_list.append(np.zeros([2,2]))\n",
    "        gap_dict = dict(zip(search_range, cand_gap_list))\n",
    "        \n",
    "        start_end_list = parameter_space(start_wt)  # get parameter_space, and write it into cand_gap_1\n",
    "        gap_dict[1] = start_end_list\n",
    "            \n",
    "        for gap_n in search_range:\n",
    "            \n",
    "            if not np.any(gap_dict[gap_n-1]):  # if last gap have no candidate\n",
    "                print('break', gap_n-1, 'th gap did not pass')   # print those didn't pass\n",
    "                break\n",
    "                \n",
    "            for i in range(len(gap_dict[gap_n-1])):\n",
    "                start_gap1 , end_gap1 = gap_dict[gap_n-1][i]\n",
    "                gap_dict[gap_n] = np.append(gap_dict[gap_n], [search_gap(start_gap1, end_gap1, gap_n)], axis=0)  # 对第n个gap进行检验，并记录结果\n",
    "            gap_dict[gap_n] = [i for i in gap_dict[gap_n] if all(i)]  # clean zero line\n",
    "        cand_gap_all.append(gap_dict)\n",
    "    return cand_gap_all\n",
    "    \n",
    "\n",
    "\n",
    "def check_candidate(cand_gap_all):  # check candidate\n",
    "    print('\\n', len(cand_gap_all), ' # number of first gap candidate', '\\n')  # how many candidate region\n",
    "    \n",
    "    for n_cand_gap in cand_gap_all:  # print candidate\n",
    "        if np.any(n_cand_gap[search_n_gap]):\n",
    "            print('W_on, W_off : ',n_cand_gap[search_n_gap][0], '# one example of candidate group', '\\n')\n",
    "        else:\n",
    "            print('no candidate', '\\n')\n",
    "            \n",
    "    \n",
    "def log_plot(wt, nbin):  # log plot for waiting time\n",
    "    logbins = np.logspace(np.log10(min(wt)), np.log10(max(wt)), nbin)\n",
    "    plt.hist(wt, bins=logbins)\n",
    "    plt.xscale('log')\n",
    "    # plt.xlim(xlim[0], xlim[1])\n",
    "    plt.xlabel('waiting time(s)', fontsize=14)\n",
    "    plt.title('n_bursts: '+str(len(wt)), fontsize=14)\n",
    "    plt.show();plt.clf()\n",
    "\n",
    "\n",
    "### plot gap\n",
    "def plot_gap():\n",
    "    plt.rcParams[\"figure.figsize\"] = (15,4)\n",
    "    plt.xlabel(\"waiting time (s)\", fontsize=15)\n",
    "    p_gap = s_gap + e_gap\n",
    "    plt.title(FRB_name + '\\n' + \"   begin_gap=\" + str(round(s_gap, 4)) + ' s' + \"   period=\" + str(round(p_gap, 4)) + ' s' , fontsize=15)\n",
    "    plt.yticks([])\n",
    "    \n",
    "    \n",
    "    plot_n_gap_list = range(plot_n_gap)\n",
    "    list_start_line = []; list_end_line = []\n",
    "    for n in plot_n_gap_list:\n",
    "        list_start_line.append(s_gap + n * p_gap)\n",
    "        list_end_line.append(e_gap + n * p_gap)\n",
    "    for i in range(len(list_start_line)):\n",
    "        plt.axvspan(xmin=list_start_line[i], xmax=list_end_line[i], facecolor=\"b\", alpha=0.2)\n",
    "    \n",
    "    ### plot wt\n",
    "    xlim = [s_gap*0.1, (e_gap+ plot_n_gap_list[-1]*p_gap)*1.02]\n",
    "    list_wt_line = [i for i in wt if xlim[0] < i < xlim[1]]\n",
    "    for i in list_wt_line:\n",
    "        plt.axvline(i, color =\"k\", ls=\"-\", alpha=0.7, lw=0.7) \n",
    "    plt.xlim(xlim[0], xlim[1])\n",
    "    \n",
    "    plt.show()\n",
    "    plt.clf()"
   ]
  },
  {
   "cell_type": "markdown",
   "id": "b16a1c4d-6795-49a9-a1f1-e21a9a698da7",
   "metadata": {
    "jp-MarkdownHeadingCollapsed": true
   },
   "source": [
    "# real data search\n",
    "\n",
    "搜寻的源：FRB 220529、FRB 201124、FRB 121102、FRB 220912"
   ]
  },
  {
   "cell_type": "code",
   "execution_count": 7,
   "id": "dc09caf9-a89a-4a38-8acb-07e1f2d4d487",
   "metadata": {},
   "outputs": [
    {
     "data": {
      "image/png": "[encoded data removed]",
      "text/plain": [
       "<Figure size 1500x400 with 1 Axes>"
      ]
     },
     "metadata": {},
     "output_type": "display_data"
    },
    {
     "name": "stdout",
     "output_type": "stream",
     "text": [
      "\n",
      " 2  # number of first gap candidate \n",
      "\n",
      "W_on, W_off :  [241.08148757 301.35185947] # one example of candidate group \n",
      "\n",
      "W_on, W_off :  [405.88300831 507.35376039] # one example of candidate group \n",
      "\n"
     ]
    },
    {
     "data": {
      "text/plain": [
       "<Figure size 1500x400 with 0 Axes>"
      ]
     },
     "metadata": {},
     "output_type": "display_data"
    }
   ],
   "source": [
    "# test search, work\n",
    "\n",
    "import os\n",
    "import numpy as np\n",
    "\n",
    "\n",
    "### load data\n",
    "# file_address = './0-data/121102_nburst_1595.txt' \n",
    "# file_address = './0-data/FRB20220529_mjd_230319_nburst_1017.txt' \n",
    "# file_address = './0-data/201124A-202104-06_nburst_1863.txt' \n",
    "file_address = './0-data/FRB 20220912A.txt' \n",
    "\n",
    "\n",
    "with open(file_address, 'r') as file:\n",
    "    ToA = file.read().split('\\n')\n",
    "    ToA = np.array(ToA).astype(float)\n",
    "file.closed\n",
    "\n",
    "\n",
    "\n",
    "## manual input\n",
    "duty_cycle = 160  # max duty cycle angle degree\n",
    "duty_cycle = duty_cycle / 360  # 转换为比率\n",
    "\n",
    "search_n_gap = 6\n",
    "error_rate = 0.1  # error in searching gap\n",
    "wt_small = 1e-2  # lowest waiting_time for searching (second)\n",
    "wt_big = 300\n",
    "# wt_small = 1e-4  ;  wt_big = 500\n",
    "\n",
    "\n",
    "## searching\n",
    "wt = clean_mjd_data(ToA) # all wt, wt in searching window, wt for checking\n",
    "log_plot(wt, 100)  # plot for check\n",
    "cand_gap = first_gap_search(wt)\n",
    "cand_gap_all = main_search(cand_gap)\n",
    "check_candidate(cand_gap_all)"
   ]
  },
  {
   "cell_type": "code",
   "execution_count": 10,
   "id": "bd364b90-7c21-497d-986f-3f7e7d7720c7",
   "metadata": {
    "collapsed": true,
    "jupyter": {
     "outputs_hidden": true
    },
    "scrolled": true
   },
   "outputs": [
    {
     "data": {
      "image/png": "[encoded data removed]",
      "text/plain": [
       "<Figure size 1500x400 with 1 Axes>"
      ]
     },
     "metadata": {},
     "output_type": "display_data"
    },
    {
     "data": {
      "text/plain": [
       "<Figure size 1500x400 with 0 Axes>"
      ]
     },
     "metadata": {},
     "output_type": "display_data"
    }
   ],
   "source": [
    "### plot cand_gap\n",
    "\n",
    "l, m, n = 0, 5, 0\n",
    "s_gap, e_gap = cand_gap_all[l][m][n]  # 第l个候选区间，第m个周期gap，第n个具体周期参数\n",
    "# s_gap, e_gap = 0.5046705 , 0.71416542  # 手动输入\n",
    "# s_gap, e_gap = wt[cand_gap[0]], wt[cand_gap[0]+1]  # 检查第一轮的候选体\n",
    "\n",
    "plot_n_gap = 12\n",
    "FRB_name = ''\n",
    "\n",
    "\n",
    "plot_gap()"
   ]
  },
  {
   "cell_type": "markdown",
   "id": "3fe104b9-2b49-4662-9b7a-5eb3a9c5f37b",
   "metadata": {},
   "source": [
    "# simulated data search"
   ]
  },
  {
   "cell_type": "code",
   "execution_count": 214,
   "id": "e915c699-5d6c-4ac4-9157-601e31c3a4bf",
   "metadata": {},
   "outputs": [
    {
     "name": "stdout",
     "output_type": "stream",
     "text": [
      "\n",
      " 1  # number of first gap candidate \n",
      "\n",
      "W_on, W_off :  [0.30261874 0.69612604] # one example of candidate group \n",
      "\n"
     ]
    }
   ],
   "source": [
    "### 【search】\n",
    "\n",
    "\n",
    "## manual input\n",
    "search_n_gap = 5\n",
    "duty_cycle = 140  # max duty cycle angle degree\n",
    "error_rate = 0.05  # error in searching gap\n",
    "\n",
    "wt_small = 1e-1  # lowest waiting_time for searching (second)\n",
    "wt_big = 100\n",
    "duty_cycle = duty_cycle / 360\n",
    "\n",
    "\n",
    "## load ToA\n",
    "ToA = np.load('./0-data/simulate ToA.npy')\n",
    "\n",
    "\n",
    "## searching\n",
    "wt = clean_second_data(ToA) # all wt, wt in searching window, wt for checking\n",
    "# log_plot(wt, 100)  # plot for check\n",
    "cand_gap = first_gap_search(wt)\n",
    "cand_gap_all = main_search(cand_gap)\n",
    "check_candidate(cand_gap_all)"
   ]
  },
  {
   "cell_type": "code",
   "execution_count": 221,
   "id": "2cbdc4b8-9220-4aec-b4da-1de72ed60aff",
   "metadata": {},
   "outputs": [
    {
     "data": {
      "image/png": "[encoded data removed]",
      "text/plain": [
       "<Figure size 1500x400 with 1 Axes>"
      ]
     },
     "metadata": {},
     "output_type": "display_data"
    },
    {
     "data": {
      "text/plain": [
       "<Figure size 1500x400 with 0 Axes>"
      ]
     },
     "metadata": {},
     "output_type": "display_data"
    }
   ],
   "source": [
    "### plot cand_gap\n",
    "\n",
    "l, m, n = 0, 5, 0\n",
    "s_gap, e_gap = cand_gap_all[l][m][n]  # 第l个候选区间，第m个周期gap，第n个具体周期参数\n",
    "# s_gap, e_gap = 0.5046705 , 0.71416542\n",
    "plot_n_gap = 5\n",
    "FRB_name = 'Simulation'\n",
    "\n",
    "\n",
    "plot_gap()"
   ]
  },
  {
   "cell_type": "code",
   "execution_count": 51,
   "id": "b704fda6",
   "metadata": {
    "collapsed": true,
    "jupyter": {
     "outputs_hidden": true,
     "source_hidden": true
    }
   },
   "outputs": [
    {
     "name": "stdout",
     "output_type": "stream",
     "text": [
      "\n",
      " 3  # number of first gap candidate \n",
      "\n",
      "[0.00060475 0.00120951] # one example of candidate group \n",
      "\n",
      "[0.07819247 0.15638494] # one example of candidate group \n",
      "\n",
      "no candidate \n",
      "\n",
      "Wall time: 13.8 s\n"
     ]
    }
   ],
   "source": [
    "%%time\n",
    "###  gap search with energy threshold，\n",
    "\n",
    "import pandas as pd\n",
    "import re\n",
    "import numpy as np\n",
    "\n",
    "\n",
    "def clean_plot_txt(data):  # get ToA from plot.txt file\n",
    "    data['TOA'] = data.iloc[:,0].str.extract(r'(?<=-obs\\s)([\\d.]+)')  # 取-obs后的ToA\n",
    "    data['TOA'] = [str(l_to_b(x)) for x in data['TOA']]  # convert to barycentric time\n",
    "    data['energy'] = data.iloc[:,0].str.extract(r'(?<=-snr\\s)([\\d.]+)')\n",
    "    return data\n",
    "\n",
    "\n",
    "def energy_threshold(data, th):\n",
    "    data = data[data['SNR'].astype(float) > th]\n",
    "    ToA = list(data['TOA'].astype(float))\n",
    "    return ToA\n",
    "\n",
    "### load ToA\n",
    "\n",
    "\n",
    "def drop_multipeak(data):  # delete the summed head of multipeak\n",
    "    mask = ~data['Burst'].str.contains('-', na=False)\n",
    "    mask_2 = mask*False\n",
    "    for n, i in enumerate(mask):\n",
    "        try:\n",
    "            if not mask[n+1] and mask[n]:  # locate multipeak\n",
    "                mask_2[n] = True\n",
    "        except:\n",
    "            continue\n",
    "    data = data.loc[~mask_2, :]  # delete multipeak\n",
    "    return data\n",
    "\n",
    "\n",
    "### 201124A data\n",
    "data = pd.read_excel(io=r'../a-data/FRB 201124A arxiv 2210.03607.xlsx',sheet_name=0, \n",
    "                     header=0, usecols=\"A:L\", nrows=1826)\n",
    "\n",
    "# data = drop_multipeak(data)\n",
    "data = data.loc[~ data['Burst'].str.contains('-', na=False), :]  # 去除Burst中有‘-’的\n",
    "\n",
    "snr_th = 400\n",
    "ToA = energy_threshold(data, snr_th)\n",
    "\n",
    "\n",
    "\n",
    "### manual input\n",
    "search_n_gap = 3\n",
    "duty_cycle = 120  # max duty cycle angle degree\n",
    "error_rate = 0.2  # error in searching gap\n",
    "\n",
    "wt_small = 1e-4  # lowest waiting_time for searching (second)\n",
    "wt_big = 500\n",
    "duty_cycle = duty_cycle / 360; r_gap = 1 - 2 * duty_cycle  # r * P = min(off - on), setted according to pulsar\n",
    "xlim = [0.00001, 2050]  # min(wt) and max(wt) \n",
    "\n",
    "\n",
    "\n",
    "### searching\n",
    "wt_all, wt, wt_check = clean_data(ToA) # all wt, wt in searching window, wt for checking\n",
    "cand_gap = first_gap_search(wt)\n",
    "cand_gap_all = main_search(cand_gap)\n",
    "check_candidate(cand_gap_all)"
   ]
  }
 ],
 "metadata": {
  "kernelspec": {
   "display_name": "Python 3 (ipykernel)",
   "language": "python",
   "name": "python3"
  },
  "language_info": {
   "codemirror_mode": {
    "name": "ipython",
    "version": 3
   },
   "file_extension": ".py",
   "mimetype": "text/x-python",
   "name": "python",
   "nbconvert_exporter": "python",
   "pygments_lexer": "ipython3",
   "version": "3.9.19"
  }
 },
 "nbformat": 4,
 "nbformat_minor": 5
}
